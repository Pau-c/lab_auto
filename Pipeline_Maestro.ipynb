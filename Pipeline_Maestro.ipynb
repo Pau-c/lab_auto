{
 "cells": [
  {
   "cell_type": "code",
   "execution_count": 15,
   "id": "95bf47f0",
   "metadata": {},
   "outputs": [
    {
     "name": "stdout",
     "output_type": "stream",
     "text": [
      "Requirement already satisfied: papermill in c:\\users\\goku\\appdata\\local\\programs\\python\\python313\\lib\\site-packages (2.6.0)\n",
      "Requirement already satisfied: pandas in c:\\users\\goku\\appdata\\local\\programs\\python\\python313\\lib\\site-packages (2.3.2)\n",
      "Requirement already satisfied: click in c:\\users\\goku\\appdata\\local\\programs\\python\\python313\\lib\\site-packages (from papermill) (8.3.0)\n",
      "Requirement already satisfied: pyyaml in c:\\users\\goku\\appdata\\local\\programs\\python\\python313\\lib\\site-packages (from papermill) (6.0.2)\n",
      "Requirement already satisfied: nbformat>=5.2.0 in c:\\users\\goku\\appdata\\local\\programs\\python\\python313\\lib\\site-packages (from papermill) (5.10.4)\n",
      "Requirement already satisfied: nbclient>=0.2.0 in c:\\users\\goku\\appdata\\local\\programs\\python\\python313\\lib\\site-packages (from papermill) (0.10.2)\n",
      "Requirement already satisfied: tqdm>=4.32.2 in c:\\users\\goku\\appdata\\local\\programs\\python\\python313\\lib\\site-packages (from papermill) (4.67.1)\n",
      "Requirement already satisfied: requests in c:\\users\\goku\\appdata\\local\\programs\\python\\python313\\lib\\site-packages (from papermill) (2.32.5)\n",
      "Requirement already satisfied: entrypoints in c:\\users\\goku\\appdata\\local\\programs\\python\\python313\\lib\\site-packages (from papermill) (0.4)\n",
      "Requirement already satisfied: tenacity>=5.0.2 in c:\\users\\goku\\appdata\\local\\programs\\python\\python313\\lib\\site-packages (from papermill) (9.1.2)\n",
      "Requirement already satisfied: ansicolors in c:\\users\\goku\\appdata\\local\\programs\\python\\python313\\lib\\site-packages (from papermill) (1.1.8)\n",
      "Requirement already satisfied: numpy>=1.26.0 in c:\\users\\goku\\appdata\\local\\programs\\python\\python313\\lib\\site-packages (from pandas) (2.3.3)\n",
      "Requirement already satisfied: python-dateutil>=2.8.2 in c:\\users\\goku\\appdata\\roaming\\python\\python313\\site-packages (from pandas) (2.9.0.post0)\n",
      "Requirement already satisfied: pytz>=2020.1 in c:\\users\\goku\\appdata\\local\\programs\\python\\python313\\lib\\site-packages (from pandas) (2025.2)\n",
      "Requirement already satisfied: tzdata>=2022.7 in c:\\users\\goku\\appdata\\local\\programs\\python\\python313\\lib\\site-packages (from pandas) (2025.2)\n",
      "Requirement already satisfied: jupyter-client>=6.1.12 in c:\\users\\goku\\appdata\\roaming\\python\\python313\\site-packages (from nbclient>=0.2.0->papermill) (8.6.3)\n",
      "Requirement already satisfied: jupyter-core!=5.0.*,>=4.12 in c:\\users\\goku\\appdata\\roaming\\python\\python313\\site-packages (from nbclient>=0.2.0->papermill) (5.7.2)\n",
      "Requirement already satisfied: traitlets>=5.4 in c:\\users\\goku\\appdata\\roaming\\python\\python313\\site-packages (from nbclient>=0.2.0->papermill) (5.14.3)\n",
      "Requirement already satisfied: pyzmq>=23.0 in c:\\users\\goku\\appdata\\roaming\\python\\python313\\site-packages (from jupyter-client>=6.1.12->nbclient>=0.2.0->papermill) (26.3.0)\n",
      "Requirement already satisfied: tornado>=6.2 in c:\\users\\goku\\appdata\\roaming\\python\\python313\\site-packages (from jupyter-client>=6.1.12->nbclient>=0.2.0->papermill) (6.4.2)\n",
      "Requirement already satisfied: platformdirs>=2.5 in c:\\users\\goku\\appdata\\roaming\\python\\python313\\site-packages (from jupyter-core!=5.0.*,>=4.12->nbclient>=0.2.0->papermill) (4.3.7)\n",
      "Requirement already satisfied: pywin32>=300 in c:\\users\\goku\\appdata\\roaming\\python\\python313\\site-packages (from jupyter-core!=5.0.*,>=4.12->nbclient>=0.2.0->papermill) (310)\n",
      "Requirement already satisfied: fastjsonschema>=2.15 in c:\\users\\goku\\appdata\\local\\programs\\python\\python313\\lib\\site-packages (from nbformat>=5.2.0->papermill) (2.21.2)\n",
      "Requirement already satisfied: jsonschema>=2.6 in c:\\users\\goku\\appdata\\local\\programs\\python\\python313\\lib\\site-packages (from nbformat>=5.2.0->papermill) (4.25.1)\n",
      "Requirement already satisfied: attrs>=22.2.0 in c:\\users\\goku\\appdata\\local\\programs\\python\\python313\\lib\\site-packages (from jsonschema>=2.6->nbformat>=5.2.0->papermill) (25.3.0)\n",
      "Requirement already satisfied: jsonschema-specifications>=2023.03.6 in c:\\users\\goku\\appdata\\local\\programs\\python\\python313\\lib\\site-packages (from jsonschema>=2.6->nbformat>=5.2.0->papermill) (2025.9.1)\n",
      "Requirement already satisfied: referencing>=0.28.4 in c:\\users\\goku\\appdata\\local\\programs\\python\\python313\\lib\\site-packages (from jsonschema>=2.6->nbformat>=5.2.0->papermill) (0.36.2)\n",
      "Requirement already satisfied: rpds-py>=0.7.1 in c:\\users\\goku\\appdata\\local\\programs\\python\\python313\\lib\\site-packages (from jsonschema>=2.6->nbformat>=5.2.0->papermill) (0.27.1)\n",
      "Requirement already satisfied: six>=1.5 in c:\\users\\goku\\appdata\\roaming\\python\\python313\\site-packages (from python-dateutil>=2.8.2->pandas) (1.17.0)\n",
      "Requirement already satisfied: colorama in c:\\users\\goku\\appdata\\roaming\\python\\python313\\site-packages (from tqdm>=4.32.2->papermill) (0.4.6)\n",
      "Requirement already satisfied: charset_normalizer<4,>=2 in c:\\users\\goku\\appdata\\local\\programs\\python\\python313\\lib\\site-packages (from requests->papermill) (3.4.3)\n",
      "Requirement already satisfied: idna<4,>=2.5 in c:\\users\\goku\\appdata\\local\\programs\\python\\python313\\lib\\site-packages (from requests->papermill) (3.10)\n",
      "Requirement already satisfied: urllib3<3,>=1.21.1 in c:\\users\\goku\\appdata\\local\\programs\\python\\python313\\lib\\site-packages (from requests->papermill) (2.5.0)\n",
      "Requirement already satisfied: certifi>=2017.4.17 in c:\\users\\goku\\appdata\\local\\programs\\python\\python313\\lib\\site-packages (from requests->papermill) (2025.8.3)\n",
      "Dependencias instaladas.\n",
      "✅ Lista de regiones obtenida de la fuente de datos.\n",
      "⏩ Se seleccionaron automáticamente los primeros 5 países: ['Afghanistan', 'Albania', 'Algeria', 'Andorra', 'Angola']\n",
      "\n",
      "Iniciando pipeline para 5 regiones.\n"
     ]
    }
   ],
   "source": [
    "# --- Celda 1: Setup y Definición de Países ---\n",
    "!pip install papermill pandas \n",
    "print(\"Dependencias instaladas.\")\n",
    "\n",
    "import papermill as pm\n",
    "import pandas as pd\n",
    "import os\n",
    "\n",
    "# Definir la URL del dataset\n",
    "URL_COVID_DATA = \"https://raw.githubusercontent.com/CSSEGISandData/COVID-19/master/csse_covid_19_data/csse_covid_19_time_series/time_series_covid19_confirmed_global.csv\"\n",
    "NOMBRE_PLANTILLA = 'notebook-ariel.ipynb' \n",
    "ARCHIVOS_RESULTADOS = [] \n",
    "\n",
    "# ----------------------------------------------------\n",
    "# LÓGICA DE SELECCIÓN DE LOS PRIMEROS 5 PAÍSES\n",
    "# ----------------------------------------------------\n",
    "\n",
    "REGIONES_DE_PRUEBA = [\"Argentina\", \"Brazil\", \"Chile\", \"US\", \"Spain\", \"Germany\", \"France\"] # Fallback\n",
    "\n",
    "try:\n",
    "    df_paises = pd.read_csv(URL_COVID_DATA)\n",
    "    # 1. Obtiene la lista completa de todos los países\n",
    "    REGIONES_TODAS = df_paises['Country/Region'].unique().tolist()\n",
    "    \n",
    "    # 2. Selecciona SOLO los primeros 5 países\n",
    "    REGIONES_A_ANALIZAR = REGIONES_TODAS[:5] \n",
    "    \n",
    "    print(\"✅ Lista de regiones obtenida de la fuente de datos.\")\n",
    "    print(f\"⏩ Se seleccionaron automáticamente los primeros 5 países: {REGIONES_A_ANALIZAR}\")\n",
    "\n",
    "except Exception as e:\n",
    "    print(f\"❌ ERROR al cargar el CSV de la URL. Usando lista de prueba.\")\n",
    "    REGIONES_A_ANALIZAR = REGIONES_DE_PRUEBA[:5] # Usa los 5 primeros del fallback\n",
    "    \n",
    "# ----------------------------------------------------\n",
    "\n",
    "# Crear el directorio de salida (output)\n",
    "if not os.path.exists('output'):\n",
    "    os.makedirs('output')\n",
    "    print(\"Directorio 'output/' creado.\")\n",
    "    \n",
    "print(f\"\\nIniciando pipeline para {len(REGIONES_A_ANALIZAR)} regiones.\")"
   ]
  },
  {
   "cell_type": "code",
   "execution_count": 16,
   "id": "7b1984e0",
   "metadata": {},
   "outputs": [
    {
     "name": "stderr",
     "output_type": "stream",
     "text": [
      "Passed unknown parameter: REGION_PARAMETRO\n"
     ]
    },
    {
     "name": "stderr",
     "output_type": "stream",
     "text": [
      "Passed unknown parameter: NOMBRE_ARCHIVO_SALIDA\n",
      "Input notebook does not contain a cell with tag 'parameters'\n"
     ]
    },
    {
     "name": "stdout",
     "output_type": "stream",
     "text": [
      "✅ Plantilla 'notebook-ariel.ipynb' encontrada. Iniciando ejecución...\n",
      "\n",
      "⚙️ Ejecutando análisis para: Afghanistan...\n"
     ]
    },
    {
     "data": {
      "application/vnd.jupyter.widget-view+json": {
       "model_id": "7ac07bc3a5374ecb8bab175eb1e14585",
       "version_major": 2,
       "version_minor": 0
      },
      "text/plain": [
       "Executing:   0%|          | 0/5 [00:00<?, ?cell/s]"
      ]
     },
     "metadata": {},
     "output_type": "display_data"
    },
    {
     "name": "stderr",
     "output_type": "stream",
     "text": [
      "Passed unknown parameter: REGION_PARAMETRO\n",
      "Passed unknown parameter: NOMBRE_ARCHIVO_SALIDA\n",
      "Input notebook does not contain a cell with tag 'parameters'\n"
     ]
    },
    {
     "name": "stdout",
     "output_type": "stream",
     "text": [
      "✅ Ejecución exitosa para Afghanistan. CSV esperado en output/indicadores_Afghanistan.csv\n",
      "\n",
      "⚙️ Ejecutando análisis para: Albania...\n"
     ]
    },
    {
     "data": {
      "application/vnd.jupyter.widget-view+json": {
       "model_id": "cbf42e957eb843a4afb84bdacc760e21",
       "version_major": 2,
       "version_minor": 0
      },
      "text/plain": [
       "Executing:   0%|          | 0/5 [00:00<?, ?cell/s]"
      ]
     },
     "metadata": {},
     "output_type": "display_data"
    },
    {
     "name": "stderr",
     "output_type": "stream",
     "text": [
      "Passed unknown parameter: REGION_PARAMETRO\n",
      "Passed unknown parameter: NOMBRE_ARCHIVO_SALIDA\n",
      "Input notebook does not contain a cell with tag 'parameters'\n"
     ]
    },
    {
     "name": "stdout",
     "output_type": "stream",
     "text": [
      "✅ Ejecución exitosa para Albania. CSV esperado en output/indicadores_Albania.csv\n",
      "\n",
      "⚙️ Ejecutando análisis para: Algeria...\n"
     ]
    },
    {
     "data": {
      "application/vnd.jupyter.widget-view+json": {
       "model_id": "fe93a596faff4d319f9073d25d586462",
       "version_major": 2,
       "version_minor": 0
      },
      "text/plain": [
       "Executing:   0%|          | 0/5 [00:00<?, ?cell/s]"
      ]
     },
     "metadata": {},
     "output_type": "display_data"
    },
    {
     "name": "stderr",
     "output_type": "stream",
     "text": [
      "Passed unknown parameter: REGION_PARAMETRO\n",
      "Passed unknown parameter: NOMBRE_ARCHIVO_SALIDA\n",
      "Input notebook does not contain a cell with tag 'parameters'\n"
     ]
    },
    {
     "name": "stdout",
     "output_type": "stream",
     "text": [
      "✅ Ejecución exitosa para Algeria. CSV esperado en output/indicadores_Algeria.csv\n",
      "\n",
      "⚙️ Ejecutando análisis para: Andorra...\n"
     ]
    },
    {
     "data": {
      "application/vnd.jupyter.widget-view+json": {
       "model_id": "abcbad86edd9477cb2f18d7a2c414b51",
       "version_major": 2,
       "version_minor": 0
      },
      "text/plain": [
       "Executing:   0%|          | 0/5 [00:00<?, ?cell/s]"
      ]
     },
     "metadata": {},
     "output_type": "display_data"
    },
    {
     "name": "stderr",
     "output_type": "stream",
     "text": [
      "Passed unknown parameter: REGION_PARAMETRO\n",
      "Passed unknown parameter: NOMBRE_ARCHIVO_SALIDA\n",
      "Input notebook does not contain a cell with tag 'parameters'\n"
     ]
    },
    {
     "name": "stdout",
     "output_type": "stream",
     "text": [
      "✅ Ejecución exitosa para Andorra. CSV esperado en output/indicadores_Andorra.csv\n",
      "\n",
      "⚙️ Ejecutando análisis para: Angola...\n"
     ]
    },
    {
     "data": {
      "application/vnd.jupyter.widget-view+json": {
       "model_id": "a16ba0bd26d1460b82a167e6c66d39cc",
       "version_major": 2,
       "version_minor": 0
      },
      "text/plain": [
       "Executing:   0%|          | 0/5 [00:00<?, ?cell/s]"
      ]
     },
     "metadata": {},
     "output_type": "display_data"
    },
    {
     "name": "stdout",
     "output_type": "stream",
     "text": [
      "✅ Ejecución exitosa para Angola. CSV esperado en output/indicadores_Angola.csv\n",
      "\n",
      "🎉 ¡Ejecución de todas las plantillas completada!\n"
     ]
    }
   ],
   "source": [
    "# --- Celda 2: Orquestación y Ejecución Parametrizada (Papermill) ---\n",
    "\n",
    "# 1. Verificación de existencia de la plantilla ANTES de empezar el bucle\n",
    "NOMBRE_PLANTILLA = 'notebook-ariel.ipynb' \n",
    "if not os.path.exists(NOMBRE_PLANTILLA):\n",
    "    print(f\"❌ ERROR CRÍTICO: La plantilla '{NOMBRE_PLANTILLA}' no se encontró en la ruta actual.\")\n",
    "    print(\"El pipeline no puede continuar. Asegúrate de que el archivo esté guardado.\")\n",
    "else:\n",
    "    print(f\"✅ Plantilla '{NOMBRE_PLANTILLA}' encontrada. Iniciando ejecución...\")\n",
    "\n",
    "    # Usamos la lista de REGIONES_A_ANALIZAR definida en la Celda 1\n",
    "    \n",
    "    for region in REGIONES_A_ANALIZAR:\n",
    "        \n",
    "        # Rutas de Archivos (usando el subdirectorio 'output')\n",
    "        region_safe = region.replace(' ', '_')\n",
    "        nombre_output_nb = f\"output/informe_limpieza_{region_safe}.ipynb\"\n",
    "        nombre_csv_salida = f\"output/indicadores_{region_safe}.csv\"\n",
    "        \n",
    "        # 2. Agregar la ruta a la lista ANTES de ejecutar (para seguimiento)\n",
    "        ARCHIVOS_RESULTADOS.append(nombre_csv_salida)\n",
    "        \n",
    "        print(f\"\\n⚙️ Ejecutando análisis para: {region}...\")\n",
    "        \n",
    "        # 3. Llamada a Papermill con manejo de errores\n",
    "        try:\n",
    "            pm.execute_notebook(\n",
    "                input_path=NOMBRE_PLANTILLA,\n",
    "                output_path=nombre_output_nb,\n",
    "                parameters=dict(\n",
    "                    REGION_PARAMETRO=region,\n",
    "                    NOMBRE_ARCHIVO_SALIDA=nombre_csv_salida\n",
    "                )\n",
    "            )\n",
    "            # Si tiene éxito, Papermill crea el .ipynb y el código interno de la plantilla crea el .csv\n",
    "            print(f\"✅ Ejecución exitosa para {region}. CSV esperado en {nombre_csv_salida}\")\n",
    "\n",
    "        except Exception as e:\n",
    "            print(f\"❌ Falló la ejecución de Papermill para {region}. Error: {e}\")\n",
    "            # Si falla, ELIMINAMOS el último archivo CSV agregado de la lista para que la compilación final no falle.\n",
    "            if ARCHIVOS_RESULTADOS:\n",
    "                 ARCHIVOS_RESULTADOS.pop()\n",
    "            print(\"⚠️ El CSV fallido fue removido de la lista de compilación final.\")\n",
    "\n",
    "\n",
    "    print(\"\\n🎉 ¡Ejecución de todas las plantillas completada!\")"
   ]
  },
  {
   "cell_type": "code",
   "execution_count": 17,
   "id": "a440f7b3",
   "metadata": {},
   "outputs": [
    {
     "name": "stdout",
     "output_type": "stream",
     "text": [
      "\n",
      "❌ No se pudo compilar el reporte final. Verifique que 'output/' contenga los archivos CSV.\n"
     ]
    }
   ],
   "source": [
    "# --- Celda 3: Compilación del Reporte Final Consolidado ---\n",
    "\n",
    "list_df = []\n",
    "for file in ARCHIVOS_RESULTADOS:\n",
    "    if os.path.exists(file):\n",
    "        df_temp = pd.read_csv(file)\n",
    "        list_df.append(df_temp)\n",
    "    # No mostramos error si el archivo no existe, ya que Papermill debe asegurarlo\n",
    "\n",
    "# Concatenar (unir) todos los DataFrames\n",
    "if list_df:\n",
    "    df_reporte_final = pd.concat(list_df, ignore_index=True)\n",
    "    \n",
    "    # Guardar el Reporte Final Consolidado\n",
    "    NOMBRE_REPORTE_FINAL = \"REPORTE_FINAL_INDICADORES_CONSOLIDADO.csv\"\n",
    "    df_reporte_final.to_csv(NOMBRE_REPORTE_FINAL, index=False)\n",
    "\n",
    "    print(f\"\\n✅ REPORTE FINAL CONSOLIDADO GENERADO: {NOMBRE_REPORTE_FINAL}\")\n",
    "    \n",
    "    # Mostrar el resultado final\n",
    "    print(\"\\nRESUMEN CONSOLIDADO DE INDICADORES Y LIMPIEZA:\")\n",
    "    display(df_reporte_final)\n",
    "else:\n",
    "    print(\"\\n❌ No se pudo compilar el reporte final. Verifique que 'output/' contenga los archivos CSV.\")"
   ]
  }
 ],
 "metadata": {
  "kernelspec": {
   "display_name": "lab_auto",
   "language": "python",
   "name": "python3"
  },
  "language_info": {
   "codemirror_mode": {
    "name": "ipython",
    "version": 3
   },
   "file_extension": ".py",
   "mimetype": "text/x-python",
   "name": "python",
   "nbconvert_exporter": "python",
   "pygments_lexer": "ipython3",
   "version": "3.12.11"
  }
 },
 "nbformat": 4,
 "nbformat_minor": 5
}
